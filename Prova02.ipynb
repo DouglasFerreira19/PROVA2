{
 "cells": [
  {
   "cell_type": "code",
   "execution_count": 1,
   "id": "d1e4e737-e13c-418a-ace2-b320e9a7eec7",
   "metadata": {},
   "outputs": [],
   "source": [
    "consumo_diario = [50, 45, 55 , 60, 48, 52 ,47 , 49, 53, 51, 50, 46, 54, 61, 49, 53, 48, 50, 52, 47, 56, 50, 55, 60, 48, 52, 47, 49, 53,51]"
   ]
  },
  {
   "cell_type": "code",
   "execution_count": 2,
   "id": "dbca0907-2053-4d05-843e-65f40ed06edf",
   "metadata": {},
   "outputs": [],
   "source": [
    "def consumo(lista):\n",
    "     return sum(lista) / len(lista)"
   ]
  },
  {
   "cell_type": "code",
   "execution_count": 3,
   "id": "97384f40-7a7a-405c-897a-31e9497e377e",
   "metadata": {},
   "outputs": [
    {
     "name": "stdout",
     "output_type": "stream",
     "text": [
      "O consumo diário médio foi: 51.36666666666667\n"
     ]
    }
   ],
   "source": [
    "lista = consumo_diario \n",
    "print(f\"O consumo diário médio foi: {consumo(lista)}\")"
   ]
  },
  {
   "cell_type": "code",
   "execution_count": null,
   "id": "d2d61cf7-8655-47eb-8a36-b4c14d3de0f4",
   "metadata": {},
   "outputs": [],
   "source": []
  }
 ],
 "metadata": {
  "kernelspec": {
   "display_name": "Python 3 (ipykernel)",
   "language": "python",
   "name": "python3"
  },
  "language_info": {
   "codemirror_mode": {
    "name": "ipython",
    "version": 3
   },
   "file_extension": ".py",
   "mimetype": "text/x-python",
   "name": "python",
   "nbconvert_exporter": "python",
   "pygments_lexer": "ipython3",
   "version": "3.12.4"
  }
 },
 "nbformat": 4,
 "nbformat_minor": 5
}
